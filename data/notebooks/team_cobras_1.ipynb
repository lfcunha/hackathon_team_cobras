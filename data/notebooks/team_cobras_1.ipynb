{
 "cells": [
  {
   "cell_type": "code",
   "execution_count": 583,
   "metadata": {
    "collapsed": false
   },
   "outputs": [
    {
     "data": {
      "text/html": [
       "<H2> Welcome, team Cobras </h2>\n",
       "</br>"
      ],
      "text/plain": [
       "<IPython.core.display.HTML object>"
      ]
     },
     "metadata": {},
     "output_type": "display_data"
    }
   ],
   "source": [
    "%%HTML\n",
    "<H2> Welcome, team Cobras </h2>\n",
    "</br>"
   ]
  },
  {
   "cell_type": "code",
   "execution_count": 848,
   "metadata": {
    "collapsed": false
   },
   "outputs": [],
   "source": [
    "import time\n",
    "import os\n",
    "import csv\n",
    "import json\n",
    "import re\n",
    "import operator\n",
    "from collections import OrderedDict\n",
    "import numpy as np\n",
    "import pandas as pd\n",
    "import numpy as np\n",
    "import matplotlib.mlab as mlab\n",
    "import matplotlib.pyplot as plt\n",
    "from collections import Counter\n",
    "import math\n",
    "import requests"
   ]
  },
  {
   "cell_type": "code",
   "execution_count": 680,
   "metadata": {
    "collapsed": false
   },
   "outputs": [
    {
     "name": "stdout",
     "output_type": "stream",
     "text": [
      "Current datime: Dec 11 2016 03:15:59\n",
      "Contents: ['unique_addresses_2013-2016.csv', '.ipynb_checkpoints', 'data', 'team_cobras_1.ipynb']\n"
     ]
    }
   ],
   "source": [
    "print(\"Current datime:\", time.strftime(\"%b %d %Y %H:%M:%S\", time.gmtime(time.time())))\n",
    "print(\"Contents:\", os.listdir(os.getcwd()))"
   ]
  },
  {
   "cell_type": "code",
   "execution_count": 681,
   "metadata": {
    "collapsed": false,
    "scrolled": true
   },
   "outputs": [
    {
     "data": {
      "text/html": [
       "<h1>Analysis of # of violations for a given year/boro</h1>\n",
       "</br></br>"
      ],
      "text/plain": [
       "<IPython.core.display.HTML object>"
      ]
     },
     "metadata": {},
     "output_type": "display_data"
    }
   ],
   "source": [
    "%%html\n",
    "<h1>Analysis of # of violations for a given year/boro</h1>\n",
    "</br></br>"
   ]
  },
  {
   "cell_type": "code",
   "execution_count": null,
   "metadata": {
    "collapsed": true
   },
   "outputs": [],
   "source": []
  },
  {
   "cell_type": "code",
   "execution_count": 682,
   "metadata": {
    "collapsed": false
   },
   "outputs": [
    {
     "data": {
      "text/html": [
       "<h3> Define Year and Boro to analyze</h3>"
      ],
      "text/plain": [
       "<IPython.core.display.HTML object>"
      ]
     },
     "metadata": {},
     "output_type": "display_data"
    }
   ],
   "source": [
    "%%html\n",
    "<h3> Define Year and Boro to analyze</h3>"
   ]
  },
  {
   "cell_type": "code",
   "execution_count": 780,
   "metadata": {
    "collapsed": true
   },
   "outputs": [],
   "source": [
    "YEAR = 2016\n",
    "BORO = \"manhattan\""
   ]
  },
  {
   "cell_type": "code",
   "execution_count": null,
   "metadata": {
    "collapsed": true
   },
   "outputs": [],
   "source": []
  },
  {
   "cell_type": "code",
   "execution_count": 781,
   "metadata": {
    "collapsed": false
   },
   "outputs": [
    {
     "data": {
      "text/html": [
       "<h3>Read csv data file and load into a python dictionary</h3>"
      ],
      "text/plain": [
       "<IPython.core.display.HTML object>"
      ]
     },
     "metadata": {},
     "output_type": "display_data"
    }
   ],
   "source": [
    "%%html\n",
    "<h3>Read csv data file and load into a python dictionary</h3>"
   ]
  },
  {
   "cell_type": "code",
   "execution_count": 782,
   "metadata": {
    "collapsed": false
   },
   "outputs": [],
   "source": [
    "filename = \"data/dob_violations_\" + str(YEAR) + \".csv\"\n",
    "with open(filename) as fh:\n",
    "    fieldnames = fh.readline().strip().split(\",\")\n",
    "    reader = csv.DictReader(fh, fieldnames)\n",
    "    dlines = []\n",
    "    for row in reader:\n",
    "        dlines.append(row)"
   ]
  },
  {
   "cell_type": "code",
   "execution_count": 783,
   "metadata": {
    "collapsed": false
   },
   "outputs": [
    {
     "data": {
      "text/html": [
       "<h3>Group violations by borough</h3>"
      ],
      "text/plain": [
       "<IPython.core.display.HTML object>"
      ]
     },
     "metadata": {},
     "output_type": "display_data"
    }
   ],
   "source": [
    "%%html\n",
    "<h3>Group violations by borough</h3>"
   ]
  },
  {
   "cell_type": "code",
   "execution_count": 784,
   "metadata": {
    "collapsed": false
   },
   "outputs": [
    {
     "name": "stdout",
     "output_type": "stream",
     "text": [
      "Errors: 0\n"
     ]
    }
   ],
   "source": [
    "by_boro = {x:[] for x in [1, 2, 3, 4, 5]}\n",
    "er = 0\n",
    "for line in dlines:\n",
    "    try:\n",
    "        by_boro[int(line['BORO'])].append(line)\n",
    "    except Exception as e:\n",
    "        er +=1\n",
    "print(\"Errors:\", er)"
   ]
  },
  {
   "cell_type": "code",
   "execution_count": 785,
   "metadata": {
    "collapsed": false
   },
   "outputs": [
    {
     "data": {
      "text/html": [
       "<h4>View first entry (violation) in Manhattan</h4>"
      ],
      "text/plain": [
       "<IPython.core.display.HTML object>"
      ]
     },
     "metadata": {},
     "output_type": "display_data"
    }
   ],
   "source": [
    "%%html\n",
    "<h4>View first entry (violation) in Manhattan</h4>"
   ]
  },
  {
   "cell_type": "code",
   "execution_count": 786,
   "metadata": {
    "collapsed": false
   },
   "outputs": [
    {
     "data": {
      "text/plain": [
       "{'BIN': '1011183',\n",
       " 'BLOCK': '00620',\n",
       " 'BORO': '1',\n",
       " 'DESCRIPTION': '',\n",
       " 'DEVICE_NUMBER': '',\n",
       " 'DISPOSITION_COMMENTS': '',\n",
       " 'DISPOSITION_DATE': '',\n",
       " 'ECB_NUMBER': '',\n",
       " 'HOUSE_NUMBER': '243',\n",
       " 'ISN_DOB_BIS_VIOL': '2046888',\n",
       " 'ISSUE_DATE': '20160513',\n",
       " 'LOT': '00001',\n",
       " 'NUMBER': 'V051316LANDMK16-1196',\n",
       " 'STREET': 'WEST   10 STREET',\n",
       " 'VIOLATION_CATEGORY': 'V-DOB VIOLATION - ACTIVE',\n",
       " 'VIOLATION_NUMBER': '16-1196',\n",
       " 'VIOLATION_TYPE': 'LANDMK-LANDMARK',\n",
       " 'VIOLATION_TYPE_CODE': 'LANDMK'}"
      ]
     },
     "execution_count": 786,
     "metadata": {},
     "output_type": "execute_result"
    }
   ],
   "source": [
    "by_boro[1][0]"
   ]
  },
  {
   "cell_type": "code",
   "execution_count": 787,
   "metadata": {
    "collapsed": false
   },
   "outputs": [
    {
     "data": {
      "text/html": [
       "<h3>Normalize address nomenclature (Avenue/AV/AVE, EAST/E, WEST/W, etc) </h3>"
      ],
      "text/plain": [
       "<IPython.core.display.HTML object>"
      ]
     },
     "metadata": {},
     "output_type": "display_data"
    }
   ],
   "source": [
    "%%html\n",
    "<h3>Normalize address nomenclature (Avenue/AV/AVE, EAST/E, WEST/W, etc) </h3>"
   ]
  },
  {
   "cell_type": "code",
   "execution_count": 788,
   "metadata": {
    "collapsed": false
   },
   "outputs": [],
   "source": [
    "# Convert \"EAST\" and \"WEST\" in addresses to \"E\" and \"W\"\n",
    "E = re.compile('EAST*', re.IGNORECASE)\n",
    "W = re.compile('WEST*', re.IGNORECASE)\n",
    "A = re.compile('AVENUE', re.IGNORECASE)\n",
    "S = re.compile('STREET', re.IGNORECASE)\n",
    "Av = re.compile('AVE', re.IGNORECASE)\n",
    "Aven = re.compile('AVEN$', re.IGNORECASE)\n",
    "ordinal = re.compile('[0-9]TH|[0-9]RD|[0-9]ST', re.IGNORECASE)\n",
    "\n",
    "for x in by_boro:\n",
    "    for y in by_boro[x]:\n",
    "        y[\"STREET\"] = re.sub(\"EAST\", \"E\", y.get(\"STREET\").upper() )\n",
    "        y[\"STREET\"] = re.sub(\"WEST\", \"W\", y.get(\"STREET\").upper() )\n",
    "        y[\"STREET\"] = re.sub(\"\\.\", \"\", y.get(\"STREET\").upper() )\n",
    "        y[\"STREET\"] = re.sub(\"STREET|STREE$\", \"ST\", y.get(\"STREET\").upper() )\n",
    "        y[\"STREET\"] = re.sub(\"STREE $\", \"ST \", y.get(\"STREET\").upper() )\n",
    "        y[\"STREET\"] = re.sub(\"AVENUE\", \"AV\", y.get(\"STREET\").upper() )\n",
    "        y[\"STREET\"] = re.sub(\"AVEN$|AVE$\", \"AV\", y.get(\"STREET\").upper() )\n",
    "        y[\"STREET\"] = re.sub(\"AVEN \", \"AV \", y.get(\"STREET\").upper() )\n",
    "        if ordinal.search(y.get(\"STREET\")):\n",
    "            r = ordinal.search(y.get(\"STREET\")).span()\n",
    "            start, end = r[0], r[1]\n",
    "            y[\"STREET\"] = \" \".join((y[\"STREET\"][:start] + \" AV \" + y[\"STREET\"][end:]).split())\n",
    "        # remove multiple spaces\n",
    "        y[\"STREET\"] = \" \".join(y[\"STREET\"].split())\n",
    "        y[\"STREET\"] = re.sub(\"ROAD\", \"RD\", y.get(\"STREET\").upper() )\n",
    "        y[\"STREET\"] = re.sub(\"PLACE\", \"PL\", y.get(\"STREET\").upper() )\n",
    "        y[\"STREET\"] = re.sub(\"BOULEVARD\", \"BLVD\", y.get(\"STREET\").upper() )"
   ]
  },
  {
   "cell_type": "code",
   "execution_count": 789,
   "metadata": {
    "collapsed": false
   },
   "outputs": [],
   "source": [
    "#by_boro[1]"
   ]
  },
  {
   "cell_type": "code",
   "execution_count": 790,
   "metadata": {
    "collapsed": false
   },
   "outputs": [
    {
     "data": {
      "text/html": [
       "<h3>Create dictionaries for unique street address, and dictionary of counts of violation / building by grouped by borough</h3>"
      ],
      "text/plain": [
       "<IPython.core.display.HTML object>"
      ]
     },
     "metadata": {},
     "output_type": "display_data"
    }
   ],
   "source": [
    "%%html\n",
    "<h3>Create dictionaries for unique street address, and dictionary of counts of violation / building by grouped by borough</h3>"
   ]
  },
  {
   "cell_type": "code",
   "execution_count": 791,
   "metadata": {
    "collapsed": false
   },
   "outputs": [],
   "source": [
    "street_addresses={x:{} for x in [1, 2, 3, 4, 5]}  # user later to request geolocation, only once per building\n",
    "building_counts = {x:{} for x in [1, 2, 3, 4, 5]}\n",
    "\n",
    "for boro in by_boro:\n",
    "    for violation in by_boro[boro]:\n",
    "        building = (violation.get(\"HOUSE_NUMBER\").strip() + \" \" + violation.get(\"STREET\"))\n",
    "        if building not in building_counts[boro]:\n",
    "            building_counts[boro][building] = 1\n",
    "        else: \n",
    "            building_counts[boro][building] += 1\n",
    "        if violation.get(\"STREET\") not in street_addresses[boro]:\n",
    "            street_addresses[boro][violation.get(\"STREET\")] = set()\n",
    "        street_addresses[boro][violation.get(\"STREET\")].add(violation.get(\"HOUSE_NUMBER\"))\n",
    "        \n",
    "with open(\"data/unique_buildings_\" + str(YEAR) + \".csv\" , \"w\") as fh:\n",
    "    fh.write(\"boro,door_number,street_address\\n\")\n",
    "    for boro in [1, 2, 3, 4, 5]:\n",
    "        for street in street_addresses[boro]:\n",
    "            for door in street_addresses[boro][street]:\n",
    "                #print(street, door)\n",
    "                fh.write(str(boro))\n",
    "                fh.write(\",\")\n",
    "                fh.write(door.strip())\n",
    "                fh.write(\",\")\n",
    "                fh.write(street.strip())\n",
    "                fh.write(\"\\n\")\n",
    "            "
   ]
  },
  {
   "cell_type": "code",
   "execution_count": 792,
   "metadata": {
    "collapsed": false
   },
   "outputs": [
    {
     "data": {
      "text/html": [
       "<h3>Sort buildings (descending) by number of violations</h3>"
      ],
      "text/plain": [
       "<IPython.core.display.HTML object>"
      ]
     },
     "metadata": {},
     "output_type": "display_data"
    }
   ],
   "source": [
    "%%html\n",
    "<h3>Sort buildings (descending) by number of violations</h3>"
   ]
  },
  {
   "cell_type": "code",
   "execution_count": 793,
   "metadata": {
    "collapsed": true
   },
   "outputs": [],
   "source": [
    "for boro in [1, 2, 3, 4, 5]:\n",
    "    building_counts[boro] = OrderedDict(sorted(building_counts[boro].items(), key=operator.itemgetter(1), reverse=True))"
   ]
  },
  {
   "cell_type": "code",
   "execution_count": 794,
   "metadata": {
    "collapsed": false
   },
   "outputs": [
    {
     "data": {
      "text/html": [
       "<h3> Number of Unique STREETS in each borough</h3>"
      ],
      "text/plain": [
       "<IPython.core.display.HTML object>"
      ]
     },
     "metadata": {},
     "output_type": "display_data"
    }
   ],
   "source": [
    "%%html\n",
    "<h3> Number of Unique STREETS in each borough</h3>"
   ]
  },
  {
   "cell_type": "code",
   "execution_count": 795,
   "metadata": {
    "collapsed": false
   },
   "outputs": [
    {
     "name": "stdout",
     "output_type": "stream",
     "text": [
      "Manhattan: 803\n",
      "Queens: 856\n",
      "Brooklyn: 1220\n",
      "Bronx: 1169\n",
      "Staten Island: 406\n"
     ]
    }
   ],
   "source": [
    "print(\"Manhattan:\", len(street_addresses[1]))\n",
    "print(\"Queens:\", len(street_addresses[2]))\n",
    "print(\"Brooklyn:\", len(street_addresses[3]))\n",
    "print(\"Bronx:\", len(street_addresses[4]))\n",
    "print(\"Staten Island:\", len(street_addresses[5]))\n"
   ]
  },
  {
   "cell_type": "code",
   "execution_count": 796,
   "metadata": {
    "collapsed": false
   },
   "outputs": [
    {
     "data": {
      "text/html": [
       "<h3>Total number of violations in each borough</h3>"
      ],
      "text/plain": [
       "<IPython.core.display.HTML object>"
      ]
     },
     "metadata": {},
     "output_type": "display_data"
    }
   ],
   "source": [
    "%%html\n",
    "<h3>Total number of violations in each borough</h3>"
   ]
  },
  {
   "cell_type": "code",
   "execution_count": 797,
   "metadata": {
    "collapsed": false
   },
   "outputs": [
    {
     "name": "stdout",
     "output_type": "stream",
     "text": [
      "Manhattan: 33304\n",
      "Queens: 9617\n",
      "Brooklyn: 18837\n",
      "Bronx: 12091\n",
      "Staten Island: 1694\n"
     ]
    }
   ],
   "source": [
    "print(\"Manhattan:\", len(by_boro[1]))\n",
    "print(\"Queens:\", len(by_boro[2]))\n",
    "print(\"Brooklyn:\", len(by_boro[3]))\n",
    "print(\"Bronx:\", len(by_boro[4]))\n",
    "print(\"Staten Island:\", len(by_boro[5]))"
   ]
  },
  {
   "cell_type": "code",
   "execution_count": 798,
   "metadata": {
    "collapsed": false
   },
   "outputs": [
    {
     "data": {
      "text/html": [
       "<h3> Write building counts"
      ],
      "text/plain": [
       "<IPython.core.display.HTML object>"
      ]
     },
     "metadata": {},
     "output_type": "display_data"
    }
   ],
   "source": [
    "%%html\n",
    "<h3> Write building counts"
   ]
  },
  {
   "cell_type": "code",
   "execution_count": 799,
   "metadata": {
    "collapsed": false
   },
   "outputs": [],
   "source": [
    "# write data to csv file\n",
    "boro = {\"manhattan\":1, \"queens\":4, \"brooklyn\":3, \"bronx\":2, \"statenisland\":5}\n",
    "\n",
    "for b in boro:\n",
    "    filename = \"data/counts_\" + b + \".csv\"\n",
    "    with open(filename, \"w\") as fh:\n",
    "        fh.write(\"building,counts\\n\")\n",
    "        for x in building_counts[boro[b]]:\n",
    "            fh.write(x)\n",
    "            fh.write(\",\")\n",
    "            fh.write(str(building_counts[boro[b]][x]))\n",
    "            fh.write(\"\\n\")\n"
   ]
  },
  {
   "cell_type": "code",
   "execution_count": 800,
   "metadata": {
    "collapsed": false
   },
   "outputs": [
    {
     "data": {
      "text/html": [
       "<h1> Analyze violation distribution for Year and Boro</h1>"
      ],
      "text/plain": [
       "<IPython.core.display.HTML object>"
      ]
     },
     "metadata": {},
     "output_type": "display_data"
    }
   ],
   "source": [
    "%%html\n",
    "<h1> Analyze violation distribution for Year and Boro</h1>"
   ]
  },
  {
   "cell_type": "code",
   "execution_count": 801,
   "metadata": {
    "collapsed": false
   },
   "outputs": [
    {
     "name": "stdout",
     "output_type": "stream",
     "text": [
      "Boro: manhattan\n",
      "Year: 2016\n"
     ]
    }
   ],
   "source": [
    "print(\"Boro:\", BORO)\n",
    "print(\"Year:\", YEAR)\n",
    "filename = 'data/counts_' + BORO + '.csv'\n"
   ]
  },
  {
   "cell_type": "code",
   "execution_count": 802,
   "metadata": {
    "collapsed": false
   },
   "outputs": [
    {
     "data": {
      "text/html": [
       "<h3>Load data into a Pandas dataframe</h3>"
      ],
      "text/plain": [
       "<IPython.core.display.HTML object>"
      ]
     },
     "metadata": {},
     "output_type": "display_data"
    }
   ],
   "source": [
    "%%html\n",
    "<h3>Load data into a Pandas dataframe</h3>"
   ]
  },
  {
   "cell_type": "code",
   "execution_count": 803,
   "metadata": {
    "collapsed": true
   },
   "outputs": [],
   "source": [
    "df = pd.read_csv(filename)"
   ]
  },
  {
   "cell_type": "code",
   "execution_count": 804,
   "metadata": {
    "collapsed": false
   },
   "outputs": [
    {
     "data": {
      "text/html": [
       "<h3>Buildings with highest number of violations:</h3>"
      ],
      "text/plain": [
       "<IPython.core.display.HTML object>"
      ]
     },
     "metadata": {},
     "output_type": "display_data"
    }
   ],
   "source": [
    "%%html\n",
    "<h3>Buildings with highest number of violations:</h3>"
   ]
  },
  {
   "cell_type": "code",
   "execution_count": 805,
   "metadata": {
    "collapsed": false
   },
   "outputs": [
    {
     "name": "stdout",
     "output_type": "stream",
     "text": [
      "      building  counts\n",
      "0     441 7 AV     107\n",
      "1  55 WATER ST      99\n",
      "2    1 WALL ST      73\n",
      "3   10 WALL ST      71\n",
      "4  111 E 33 ST      64\n"
     ]
    }
   ],
   "source": [
    "print(df.head())"
   ]
  },
  {
   "cell_type": "code",
   "execution_count": 806,
   "metadata": {
    "collapsed": false
   },
   "outputs": [
    {
     "data": {
      "text/html": [
       "<h3>Graphical analysis of the distribution of violations per building</h3>"
      ],
      "text/plain": [
       "<IPython.core.display.HTML object>"
      ]
     },
     "metadata": {},
     "output_type": "display_data"
    }
   ],
   "source": [
    "%%html\n",
    "<h3>Graphical analysis of the distribution of violations per building</h3>"
   ]
  },
  {
   "cell_type": "code",
   "execution_count": 807,
   "metadata": {
    "collapsed": false
   },
   "outputs": [
    {
     "name": "stdout",
     "output_type": "stream",
     "text": [
      "      building  counts\n",
      "0     441 7 AV     107\n",
      "1  55 WATER ST      99\n",
      "2    1 WALL ST      73\n",
      "3   10 WALL ST      71\n",
      "4  111 E 33 ST      64\n",
      " \n",
      "Mean number of violation per building: counts    2.833901\n",
      "dtype: float64\n",
      "Median of number of violations per building: counts    2.0\n",
      "dtype: float64\n",
      " \n",
      "Statistics, including percentiles:\n",
      "             counts\n",
      "count  11752.000000\n",
      "mean       2.833901\n",
      "std        4.077412\n",
      "min        1.000000\n",
      "25%        1.000000\n",
      "50%        2.000000\n",
      "75%        3.000000\n",
      "85%        4.000000\n",
      "90%        6.000000\n",
      "95%        8.000000\n",
      "97%       11.000000\n",
      "99%       20.000000\n",
      "max      107.000000\n"
     ]
    },
    {
     "data": {
      "text/plain": [
       "<matplotlib.figure.Figure at 0x7fbf73195a20>"
      ]
     },
     "metadata": {},
     "output_type": "display_data"
    },
    {
     "data": {
      "image/png": "[encoded data removed]",
      "text/plain": [
       "<matplotlib.figure.Figure at 0x7fbf64bc8668>"
      ]
     },
     "metadata": {},
     "output_type": "display_data"
    },
    {
     "data": {
      "image/png": "[encoded data removed]",
      "text/plain": [
       "<matplotlib.figure.Figure at 0x7fbf65ac7d68>"
      ]
     },
     "metadata": {},
     "output_type": "display_data"
    },
    {
     "data": {
      "image/png": "[encoded data removed]",
      "text/plain": [
       "<matplotlib.figure.Figure at 0x7fbf65ac7e48>"
      ]
     },
     "metadata": {},
     "output_type": "display_data"
    }
   ],
   "source": [
    "import numpy as np\n",
    "import matplotlib.mlab as mlab\n",
    "import matplotlib.pyplot as plt\n",
    "from collections import Counter\n",
    "\n",
    "print(df.head())\n",
    "print(\" \")\n",
    "print(\"Mean number of violation per building:\", df.mean())\n",
    "print(\"Median of number of violations per building:\", df.median())\n",
    "print(\" \")\n",
    "print(\"Statistics, including percentiles:\")\n",
    "print(df.describe(percentiles=[.25,.5,.75, .85, .90, .95, .97, .99]))\n",
    "\n",
    "fig = plt.figure(1, figsize=(5.5,5.5))\n",
    "ax = df.plot(kind=\"hist\", logy=True, subplots=True, legend=\"AAA\", use_index=False, title=\"Freq. Dist. of # violation\")\n",
    "plt.legend()\n",
    "df.plot(kind=\"box\", ylim=(0,10), subplots=True, title=\"Box plot of the dist of violations\")\n",
    "df.plot(kind=\"kde\", xlim=(0,100), subplots=True, title=\"Density dist. of # violations\")\n",
    "plt.show()\n"
   ]
  },
  {
   "cell_type": "code",
   "execution_count": 808,
   "metadata": {
    "collapsed": false
   },
   "outputs": [
    {
     "data": {
      "text/html": [
       "<H1>Conclusion</h1>\n",
       "<h4>Half the buldings have only a 1 or 2 violations. Very few buildings have 10s of violations. Macy's has over 100 complaints, mostly about client accidents in the property</h4>\n",
       "</br></br>\n",
       "<h1>******************************************</h1>"
      ],
      "text/plain": [
       "<IPython.core.display.HTML object>"
      ]
     },
     "metadata": {},
     "output_type": "display_data"
    }
   ],
   "source": [
    "%%html\n",
    "<H1>Conclusion</h1>\n",
    "<h4>Half the buldings have only a 1 or 2 violations. Very few buildings have 10s of violations. Macy's has over 100 complaints, mostly about client accidents in the property</h4>\n",
    "</br></br>\n",
    "<h1>******************************************</h1>"
   ]
  },
  {
   "cell_type": "code",
   "execution_count": 809,
   "metadata": {
    "collapsed": false
   },
   "outputs": [
    {
     "data": {
      "text/html": [
       "<h3>You can perform shell operations right from the notebook</h3>"
      ],
      "text/plain": [
       "<IPython.core.display.HTML object>"
      ]
     },
     "metadata": {},
     "output_type": "display_data"
    }
   ],
   "source": [
    "%%html\n",
    "<h3>You can perform shell operations right from the notebook</h3>"
   ]
  },
  {
   "cell_type": "code",
   "execution_count": 810,
   "metadata": {
    "collapsed": false
   },
   "outputs": [
    {
     "name": "stdout",
     "output_type": "stream",
     "text": [
      "Requirement already satisfied (use --upgrade to upgrade): seaborn in /usr/local/lib/python3.5/dist-packages\n",
      "Requirement already satisfied (use --upgrade to upgrade): scipy in /usr/local/lib/python3.5/dist-packages (from seaborn)\n",
      "Requirement already up-to-date: pip in /home/ubuntu/.local/lib/python3.5/site-packages\n"
     ]
    },
    {
     "name": "stderr",
     "output_type": "stream",
     "text": [
      "You are using pip version 8.1.1, however version 9.0.1 is available.\n",
      "You should consider upgrading via the 'pip install --upgrade pip' command.\n"
     ]
    }
   ],
   "source": [
    "%%bash\n",
    "sudo -H pip3 install seaborn\n",
    "pip3 install --upgrade pip"
   ]
  },
  {
   "cell_type": "code",
   "execution_count": 811,
   "metadata": {
    "collapsed": false
   },
   "outputs": [
    {
     "data": {
      "text/plain": [
       "'\\nsee https://blog.dominodatalab.com/lesser-known-ways-of-using-notebooks/ for some less known neat tricks\\n'"
      ]
     },
     "execution_count": 811,
     "metadata": {},
     "output_type": "execute_result"
    }
   ],
   "source": [
    "\"\"\"\n",
    "see https://blog.dominodatalab.com/lesser-known-ways-of-using-notebooks/ for some less known neat tricks\n",
    "\"\"\""
   ]
  },
  {
   "cell_type": "code",
   "execution_count": 812,
   "metadata": {
    "collapsed": false
   },
   "outputs": [
    {
     "data": {
      "text/html": [
       "<h3>Create file of all unique addresses found from 2013-2016</h3>\n",
       "<strong> To be used to get locations from google geolocation, minimizing calls</h3>"
      ],
      "text/plain": [
       "<IPython.core.display.HTML object>"
      ]
     },
     "metadata": {},
     "output_type": "display_data"
    }
   ],
   "source": [
    "%%html\n",
    "<h3>Create file of all unique addresses found from 2013-2016</h3>\n",
    "<strong> To be used to get locations from google geolocation, minimizing calls</h3>"
   ]
  },
  {
   "cell_type": "code",
   "execution_count": 820,
   "metadata": {
    "collapsed": false
   },
   "outputs": [],
   "source": [
    "addresses = {5:{}, 1:{}, 2:{}, 3:{}, 4:{}}\n",
    "\n",
    "def run(reader_):\n",
    "    for row in reader_: \n",
    "        if row[\"street_address\"] not in addresses[int(row[\"boro\"])]:\n",
    "            addresses[int(row[\"boro\"])][row[\"street_address\"]] = set()\n",
    "        addresses[int(row[\"boro\"])][row[\"street_address\"]].add(row[\"door_number\"])\n",
    "                \n",
    "with open(\"data/unique_buildings_2013.csv\") as csvfile:\n",
    "    reader1 = csv.DictReader(csvfile, delimiter=',', quotechar='|')\n",
    "    run(reader1)\n",
    "with open(\"data/unique_buildings_2014.csv\") as csvfile:\n",
    "    reader2 = csv.DictReader(csvfile, delimiter=',', quotechar='|')\n",
    "    run(reader2)\n",
    "with open(\"data/unique_buildings_2015.csv\") as csvfile:\n",
    "    reader3 = csv.DictReader(csvfile, delimiter=',', quotechar='|')\n",
    "    run(reader3)\n",
    "with open(\"data/unique_buildings_2016.csv\") as csvfile:\n",
    "    reader4 = csv.DictReader(csvfile, delimiter=',', quotechar='|')\n",
    "    run(reader4)\n",
    "\n",
    "with open('data/unique_addresses_2013-2016.csv', \"w\") as fh:\n",
    "    fh.write(\"boro,door_number,street_address\\n\")\n",
    "    for boro in [1, 2, 3, 4, 5]:\n",
    "        for building in addresses[boro]:\n",
    "            for door in addresses[boro][building]:\n",
    "                fh.write(str(boro))\n",
    "                fh.write(\",\")\n",
    "                fh.write(door)\n",
    "                fh.write(\",\")\n",
    "                fh.write(building)\n",
    "                fh.write(\"\\n\")"
   ]
  },
  {
   "cell_type": "code",
   "execution_count": 814,
   "metadata": {
    "collapsed": false
   },
   "outputs": [
    {
     "data": {
      "text/html": [
       "<h4> total number of unique buildings per boro</h4>"
      ],
      "text/plain": [
       "<IPython.core.display.HTML object>"
      ]
     },
     "metadata": {},
     "output_type": "display_data"
    }
   ],
   "source": [
    "%%html\n",
    "<h4> total number of unique buildings per boro</h4>"
   ]
  },
  {
   "cell_type": "code",
   "execution_count": 860,
   "metadata": {
    "collapsed": false
   },
   "outputs": [
    {
     "name": "stdout",
     "output_type": "stream",
     "text": [
      "18313\n",
      "7113\n",
      "15561\n",
      "10762\n",
      "1448\n"
     ]
    }
   ],
   "source": [
    "%%bash\n",
    "grep \"^1\" data/unique_buildings_2014.csv | wc -l\n",
    "grep \"^2\" data/unique_buildings_2014.csv | wc -l\n",
    "grep \"^3\" data/unique_buildings_2014.csv | wc -l\n",
    "grep \"^4\" data/unique_buildings_2014.csv | wc -l\n",
    "grep \"^5\" data/unique_buildings_2014.csv | wc -l"
   ]
  }
 ],
 "metadata": {
  "anaconda-cloud": {},
  "celltoolbar": "Raw Cell Format",
  "kernelspec": {
   "display_name": "Python 3",
   "language": "python",
   "name": "python3"
  },
  "language_info": {
   "codemirror_mode": {
    "name": "ipython",
    "version": 3
   },
   "file_extension": ".py",
   "mimetype": "text/x-python",
   "name": "python",
   "nbconvert_exporter": "python",
   "pygments_lexer": "ipython3",
   "version": "3.5.2"
  }
 },
 "nbformat": 4,
 "nbformat_minor": 2
}
